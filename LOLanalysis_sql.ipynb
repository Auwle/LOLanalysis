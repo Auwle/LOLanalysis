{
 "cells": [
  {
   "cell_type": "code",
   "execution_count": 14,
   "metadata": {},
   "outputs": [],
   "source": [
    "# For the data of this project go to: 'https://www.kaggle.com/datasets/paololol/league-of-legends-ranked-matches/data'\n",
    "#!pip install ipython-sql"
   ]
  },
  {
   "cell_type": "code",
   "execution_count": 15,
   "metadata": {},
   "outputs": [
    {
     "name": "stdout",
     "output_type": "stream",
     "text": [
      "The sql extension is already loaded. To reload it, use:\n",
      "  %reload_ext sql\n"
     ]
    }
   ],
   "source": [
    "import pandas as pd\n",
    "import sqlite3\n",
    "%load_ext sql "
   ]
  },
  {
   "cell_type": "code",
   "execution_count": 16,
   "metadata": {},
   "outputs": [],
   "source": [
    "%sql sqlite:///lolanalysis.db\n",
    "conn =  sqlite3.connect('lolanalysis.db')"
   ]
  },
  {
   "cell_type": "markdown",
   "metadata": {},
   "source": [
    "<b> Create table with prefered column in the sql database <b>"
   ]
  },
  {
   "cell_type": "code",
   "execution_count": 17,
   "metadata": {},
   "outputs": [
    {
     "name": "stdout",
     "output_type": "stream",
     "text": [
      " * sqlite:///lolanalysis.db\n",
      "Done.\n",
      "Done.\n",
      "Done.\n",
      "Done.\n",
      "Done.\n",
      "Done.\n"
     ]
    },
    {
     "data": {
      "text/plain": [
       "[]"
      ]
     },
     "execution_count": 17,
     "metadata": {},
     "output_type": "execute_result"
    }
   ],
   "source": [
    "%%sql\n",
    "drop table if exists Participants;\n",
    "drop table if exists Champs;\n",
    "drop table if exists Stats;\n",
    "\n",
    "create table Participants (\n",
    "    id int,\n",
    "    matchid int,\n",
    "    player int,\n",
    "    championid int,\n",
    "    position varchar(8)\n",
    ");\n",
    "create table Champs ( \n",
    "    name varchar(16),\n",
    "    id int\n",
    ");\n",
    "create table Stats (\n",
    "    id int,\n",
    "    win int\n",
    ")"
   ]
  },
  {
   "cell_type": "markdown",
   "metadata": {},
   "source": [
    "<b> Read excel files, clear unnecessary columns and transfer to sql <b>"
   ]
  },
  {
   "cell_type": "code",
   "execution_count": 18,
   "metadata": {},
   "outputs": [
    {
     "name": "stdout",
     "output_type": "stream",
     "text": [
      "   id  matchid  player  championid position\n",
      "0   9       10       0          19   Jungle\n",
      "1  10       10       0         267  Support\n",
      "2  11       10       0         119      Adc\n",
      "3  12       10       0         114      Top\n",
      "4  13       10       0         112      Mid\n",
      "       name   id\n",
      "0       Jax   24\n",
      "1      Sona   37\n",
      "2  Tristana   18\n",
      "3     Varus  110\n",
      "4     Fiora  114\n",
      "   id  win\n",
      "0   9    0\n",
      "1  10    0\n",
      "2  11    0\n",
      "3  12    0\n",
      "4  13    0\n"
     ]
    },
    {
     "name": "stderr",
     "output_type": "stream",
     "text": [
      "C:\\Users\\VINH\\AppData\\Local\\Temp\\ipykernel_2424\\1863289335.py:51: DtypeWarning: Columns (52) have mixed types. Specify dtype option on import or set low_memory=False.\n",
      "  winstat2_df = pd.read_csv(r\"C:\\Users\\VINH\\Desktop\\lol analyst\\stats2.csv\")\n"
     ]
    },
    {
     "name": "stdout",
     "output_type": "stream",
     "text": [
      "        id  win\n",
      "0  1028382    0\n",
      "1  1028383    0\n",
      "2  1028384    0\n",
      "3  1028385    0\n",
      "4  1028386    0\n"
     ]
    }
   ],
   "source": [
    "# There are 3 files named Participants, Stat1 and Stat2 have more than 1 million records so we need to make a function\n",
    "# to insert values into sql since the max entries per insert is 999 \n",
    "\n",
    "def InsertValue(df_name , sql_table):\n",
    "    # Chunk size for inserting data into SQL database\n",
    "    chunksize = 1000\n",
    "    # Define the number of chunks\n",
    "    num_chunks = len(df_name) // chunksize + 1\n",
    "    # Insert data into SQL database in chunks\n",
    "    for i in range(num_chunks):\n",
    "        start_idx = i * chunksize\n",
    "        end_idx = (i + 1) * chunksize\n",
    "        chunk_df = df_name.iloc[start_idx:end_idx]\n",
    "        chunk_df.to_sql(sql_table, conn, if_exists='append', index=False)\n",
    "\n",
    "\n",
    "\n",
    "participant_df = pd.read_csv(r\"C:\\Users\\VINH\\Desktop\\lol analyst\\participants.csv\")\n",
    "\n",
    "\n",
    "# convert player to two sides to indentify enemies and allies\n",
    "for i in range(1,6): \n",
    "    participant_df['player'] = participant_df['player'].replace( to_replace = i, value = 0)\n",
    "for i in range(6,11):\n",
    "    participant_df['player'] = participant_df['player'].replace( to_replace= i, value = 1)\n",
    "\n",
    "# merge 2 columns: role and position\n",
    "participant_df['merged'] = participant_df['role'] + ' ' + participant_df['position']\n",
    "\n",
    "# drop unnecessary columns\n",
    "participant_df.drop(columns=['ss1','ss2','role','position'], inplace=True)\n",
    "\n",
    "participant_df.rename(columns= {'merged':'position'}, inplace=True)\n",
    "participant_df['position'] = participant_df['position'].replace( to_replace = ['SOLO TOP', 'SOLO MID', 'NONE JUNGLE', 'DUO_SUPPORT BOT','DUO_CARRY BOT'], \n",
    "                                value= ['Top', 'Mid', 'Jungle', 'Support', 'Adc'] )\n",
    "#  re-check the df \n",
    "print(participant_df.head(5))\n",
    "# transfer the df to sql:  participant_df.to_sql('Participants', conn, if_exists= 'replace' , method = 'multi')  ( this doesn't work because of the numbers of variables exceed the capacity  of sqlite)\n",
    "InsertValue(participant_df, 'Participants')\n",
    "\n",
    "\n",
    "champ_df = pd.read_csv(r\"C:\\Users\\VINH\\Desktop\\lol analyst\\champs.csv\")\n",
    "print(champ_df.head(5))\n",
    "champ_sql = champ_df.to_sql('Champs', conn, if_exists= 'replace', method='multi')\n",
    "\n",
    "winstat1_df = pd.read_csv(r\"C:\\Users\\VINH\\Desktop\\lol analyst\\stats1.csv\")\n",
    "winstat1_df = winstat1_df[['id','win']]\n",
    "print(winstat1_df.head(5))\n",
    "InsertValue(winstat1_df, 'Stats')\n",
    "\n",
    "winstat2_df = pd.read_csv(r\"C:\\Users\\VINH\\Desktop\\lol analyst\\stats2.csv\")\n",
    "winstat2_df = winstat2_df[['id','win']]\n",
    "print(winstat2_df.head(5))\n",
    "InsertValue(winstat2_df, 'Stats')\n"
   ]
  }
 ],
 "metadata": {
  "kernelspec": {
   "display_name": "Python 3",
   "language": "python",
   "name": "python3"
  },
  "language_info": {
   "codemirror_mode": {
    "name": "ipython",
    "version": 3
   },
   "file_extension": ".py",
   "mimetype": "text/x-python",
   "name": "python",
   "nbconvert_exporter": "python",
   "pygments_lexer": "ipython3",
   "version": "3.11.8"
  }
 },
 "nbformat": 4,
 "nbformat_minor": 2
}
